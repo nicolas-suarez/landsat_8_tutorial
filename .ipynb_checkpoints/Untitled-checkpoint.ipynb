{
 "cells": [
  {
   "cell_type": "markdown",
   "metadata": {},
   "source": [
    "# Tutorial: Landsat-8 image download and visualization using Google Earth Engine and Python\n",
    "\n",
    "In this tutorial I want to explain how to download and visualize Landsat-8 images using GEE and Python packages. I wrote this code originally for my [\"Using satellite and street level images to predict urban emissions\"](https://github.com/nicolas-suarez/urban_emissions/) project, and we struggled to download images in a simple way, and that's why I'm writing this tutorial."
   ]
  },
  {
   "cell_type": "markdown",
   "metadata": {},
   "source": [
    "## Initial set-up\n",
    "\n",
    "We start by importing some packages. Besides installing the packages, we also need a Google-Earth Engine account to use the `ee` package."
   ]
  },
  {
   "cell_type": "code",
   "execution_count": null,
   "metadata": {},
   "outputs": [
    {
     "data": {
      "text/html": [
       "<p>To authorize access needed by Earth Engine, open the following\n",
       "        URL in a web browser and follow the instructions:</p>\n",
       "        <p><a href=https://accounts.google.com/o/oauth2/auth?client_id=517222506229-vsmmajv00ul0bs7p89v5m89qs8eb9359.apps.googleusercontent.com&scope=https%3A%2F%2Fwww.googleapis.com%2Fauth%2Fearthengine+https%3A%2F%2Fwww.googleapis.com%2Fauth%2Fdevstorage.full_control&redirect_uri=urn%3Aietf%3Awg%3Aoauth%3A2.0%3Aoob&response_type=code&code_challenge=c8KnRAyvKdwSupJPQlUfmkEhjoJrOILf93n2kEZ__2o&code_challenge_method=S256>https://accounts.google.com/o/oauth2/auth?client_id=517222506229-vsmmajv00ul0bs7p89v5m89qs8eb9359.apps.googleusercontent.com&scope=https%3A%2F%2Fwww.googleapis.com%2Fauth%2Fearthengine+https%3A%2F%2Fwww.googleapis.com%2Fauth%2Fdevstorage.full_control&redirect_uri=urn%3Aietf%3Awg%3Aoauth%3A2.0%3Aoob&response_type=code&code_challenge=c8KnRAyvKdwSupJPQlUfmkEhjoJrOILf93n2kEZ__2o&code_challenge_method=S256</a></p>\n",
       "        <p>The authorization workflow will generate a code, which you\n",
       "        should paste in the box below</p>\n",
       "        "
      ],
      "text/plain": [
       "<IPython.core.display.HTML object>"
      ]
     },
     "metadata": {},
     "output_type": "display_data"
    }
   ],
   "source": [
    "import numpy as np\n",
    "import pandas as pd\n",
    "import pickle\n",
    "import time\n",
    "import math  \n",
    "from geetools import cloud_mask\n",
    "\n",
    "#importing Earth Engine packages\n",
    "import ee #install in the console with \"pip install earthengine-api --upgrade\"\n",
    "ee.Authenticate() #every person needs an Earth Engine account to do this part\n",
    "ee.Initialize()"
   ]
  },
  {
   "cell_type": "markdown",
   "metadata": {},
   "source": [
    "After doing this, I'm going to define a function to download imagery called `image_task`. This function download satellite images centered around a point defined by latitude and longitude coordinates, with a certain size, and allows us to store them either on a Google Drive folder or in a Google Cloud bucket. **PENDING: add local storage with** [ee.Image.getDownloadURL](https://developers.google.com/earth-engine/apidocs/ee-image-getdownloadurl)\n",
    "\n",
    "More specifically, we start by defining `len`, the total size of the image in meters, that is computed as the product of the resolution of our Landsat-8 SR images (30 meters) and the number of pixels we want to capture in the image. After that, we generate a circle around the point of interested, using as the radius half of our `len` parameter, and then we put a bounding box around the circle to get a square. We extract the coordinates of the bounding box and pass them to a `ee.Geometry.Rectangle` object called `rectangle`.\n",
    "\n",
    "After that, we only need to crop our `rectangle` object from our satellite image, called `image` here. Here, our image is going to be an `ee.ImageCollection` object defined to contain the `Landstat-8 SR`  collection for a specified time period, and defining the bands that we are going to use. We are going to generate a `task` that the Google Earth Engine is going to run later, where we are going to clip our `rectangle` area using the `filterBounds()` method, and then we use the `mean()` function to obtain a mean-composite of the images in the `ImageCollection` for the specified area. We also need to define the `region` where we are working (which is essentially the same as our `rectangle`, and the dimensions of our image (the number of pixels for the width and height)."
   ]
  },
  {
   "cell_type": "code",
   "execution_count": null,
   "metadata": {},
   "outputs": [],
   "source": [
    "def image_task(image,point,image_res,n_pixels,folder_name, image_name,storage=\"Cloud\"):\n",
    "    \n",
    "    \"\"\"\n",
    "    Function to download satellite images from a ee.imageCollection object.\n",
    "    We first generate a bounding box of image_res*n_pixels meters around \"point\",\n",
    "    then we clip that region from the image collection, take the mean image from the collection,\n",
    "    and send that as a task to the Google Earth Engine. \n",
    "    After that, we download the image Google Cloud Storage if storage==\"Cloud\", \n",
    "    or to Google Drive if storage==\"Drive\".\n",
    "    \n",
    "    Inputs:\n",
    "    -image= ee.ImageCollection object\n",
    "    -point= ee.Geometry.Point object\n",
    "    -image_res= resolution of the image in meters\n",
    "    -n_pixels= number of pixels to extract on the images\n",
    "    -storage= string indicating if we are storing the images in Google Cloud or Google Drive.\n",
    "              Defaults to Google Cloud.\n",
    "    -folder_name= string with Google Cloud bucket name if storage==\"Cloud\"\n",
    "                  string with the name of a folder in the root of Google Drive if storage==\"Drive\"\n",
    "    -image_name= string with the image_name for the TIFF image.\n",
    "\n",
    "    Output:\n",
    "     task= an EE task object. we can then use task.status() to check the status of the task.\n",
    "     If the task is completed, we will see a TIFF image in \"folder_name\" with name \"image_name.tif\".\n",
    "     The image has 3 dimensions, where the first 2 are n_pixels, and the 3rd is the number of bands of \"image\".\n",
    "    \"\"\"\n",
    "    #generating the box around the point\n",
    "    len=image_res*n_pixels # for landsat, 30 meters * 224 pixels\n",
    "    region= point.buffer(len/2).bounds().getInfo()['coordinates']\n",
    "    #defining the rectangle\n",
    "    coords=np.array(region)\n",
    "    #taking min and maxs of coordinates to define the rectangle\n",
    "    coords=[np.min(coords[:,:,0]), np.min(coords[:,:,1]), np.max(coords[:,:,0]), np.max(coords[:,:,1])]\n",
    "    rectangle=ee.Geometry.Rectangle(coords)\n",
    "\n",
    "    #generating the export task (dimensions is \"WIDTHxHEIGHT\")\n",
    "    if storage==\"Cloud\":\n",
    "        task=ee.batch.Export.image.toCloudStorage(image=image.filterBounds(rectangle).mean(), \n",
    "                            bucket=folder_name, \n",
    "                            description=image_name, \n",
    "                            region=str(region), dimensions=str(n_pixels)+\"x\"+str(n_pixels))\n",
    "    if storage==\"Drive\":\n",
    "        task=ee.batch.Export.image.toDrive(image=image.filterBounds(rectangle).mean(), \n",
    "                            folder=folder_name, \n",
    "                            description=image_name, \n",
    "                            region=str(region), dimensions=str(n_pixels)+\"x\"+str(n_pixels))"
   ]
  }
 ],
 "metadata": {
  "kernelspec": {
   "display_name": "Python 3",
   "language": "python",
   "name": "python3"
  },
  "language_info": {
   "codemirror_mode": {
    "name": "ipython",
    "version": 3
   },
   "file_extension": ".py",
   "mimetype": "text/x-python",
   "name": "python",
   "nbconvert_exporter": "python",
   "pygments_lexer": "ipython3",
   "version": "3.8.5"
  }
 },
 "nbformat": 4,
 "nbformat_minor": 4
}
